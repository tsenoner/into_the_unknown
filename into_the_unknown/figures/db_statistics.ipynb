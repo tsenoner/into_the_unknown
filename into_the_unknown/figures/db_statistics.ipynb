{
 "cells": [
  {
   "cell_type": "markdown",
   "metadata": {},
   "source": [
    "## UniProt Statistics"
   ]
  },
  {
   "cell_type": "code",
   "execution_count": 85,
   "metadata": {},
   "outputs": [
    {
     "name": "stdout",
     "output_type": "stream",
     "text": [
      "Combined plot with new layout has been generated and saved as 'uniprot_stats.png'.\n"
     ]
    }
   ],
   "source": [
    "import matplotlib.pyplot as plt\n",
    "import seaborn as sns\n",
    "import numpy as np\n",
    "import pandas as pd\n",
    "from matplotlib.gridspec import GridSpec\n",
    "from textwrap import wrap\n",
    "\n",
    "\n",
    "def format_number(num):\n",
    "    for unit, divisor in [('B', 1e9), ('M', 1e6), ('K', 1e3)]:\n",
    "        if num >= divisor:\n",
    "            scaled = num / divisor\n",
    "            if scaled >= 100:\n",
    "                return f\"{scaled:.0f}{unit}\"\n",
    "            else:\n",
    "                return f\"{scaled:.1f}{unit}\"\n",
    "    return f\"{num}\"\n",
    "\n",
    "def format_tick_label(label, chars_per_line=20):\n",
    "    return '\\n'.join(wrap(label, chars_per_line))\n",
    "\n",
    "# Data\n",
    "species_entries = {\n",
    "    'Chloroflexota bacterium': 1_649_388,\n",
    "    'Gammaproteobacteria bacterium': 1_571_227,\n",
    "    'Acidobacteriota bacterium': 1_301_645,\n",
    "    'Deltaproteobacteria bacterium': 1_180_560,\n",
    "    'Human immunodeficiency virus 1': 1_107_809,\n",
    "    'Actinomycetes bacterium': 853_379,\n",
    "    'Alphaproteobacteria bacterium': 799_851,\n",
    "    'Planctomycetota bacterium': 725_306,\n",
    "    'marine sediment metagenome': 668_601,\n",
    "    'Verrucomicrobiota bacterium': 640_596\n",
    "}\n",
    "\n",
    "species_data = {'TrEMBL': 1_312_332, 'SwissProt': 14_652}\n",
    "\n",
    "species_sequences = {\n",
    "    \"Eukaryota\": 79_048_440,\n",
    "    \"Archaea\": 6_676_975,\n",
    "    \"Viruses\": 5_689_440,\n",
    "    \"Bacteria\": 152_054_072,\n",
    "    \"Other\": 2_427_836\n",
    "}\n",
    "\n",
    "protein_existence = {\n",
    "    'Protein level': 391_016,\n",
    "    'Transcript level': 1_416_119,\n",
    "    'Homology': 88_949_322,\n",
    "    'Predicted': 155_138_483,\n",
    "    'Uncertain': 1_826\n",
    "}\n",
    "\n",
    "# Set up the plot style\n",
    "sns.set(style=\"whitegrid\")\n",
    "plt.rcParams.update({'font.size': 12})\n",
    "\n",
    "# Create a figure with custom layout\n",
    "fig = plt.figure(figsize=(20, 10))\n",
    "gs = GridSpec(3, 2, figure=fig, width_ratios=[1, 1], height_ratios=[1, 1, 1])\n",
    "\n",
    "# Adjust the layout\n",
    "ax1 = fig.add_subplot(gs[:, 0])  # Left column, full height\n",
    "ax2 = fig.add_subplot(gs[0, 1])  # Top right\n",
    "ax3 = fig.add_subplot(gs[1, 1])  # Middle right\n",
    "ax4 = fig.add_subplot(gs[2, 1])  # Bottom right\n",
    "\n",
    "fig.suptitle('UniProt Statistics', fontsize=24)\n",
    "\n",
    "# --- a. Horizontal bar plot for Species Entries ---\n",
    "species = list(species_entries.keys())\n",
    "values = list(species_entries.values())\n",
    "y_pos = np.arange(len(species))\n",
    "\n",
    "sns.barplot(x=values, y=species, ax=ax1, color='skyblue')\n",
    "ax1.set_title('a. Number of Top 10 Entries by Species', fontsize=20)\n",
    "ax1.set_xlabel('Number of Entries', fontsize=16)\n",
    "ax1.set_xlim(0, 1_800_000)\n",
    "ax1.set_ylabel('')\n",
    "ax1.tick_params(labelsize=14)\n",
    "formatted_species = [format_tick_label(s) for s in species]\n",
    "ax1.set_yticks(y_pos)\n",
    "ax1.set_yticklabels(formatted_species)\n",
    "for i, v in enumerate(values):\n",
    "    ax1.text(v, i, f' {format_number(v)}', va='center', fontsize=14)\n",
    "\n",
    "# Function to create a single stacked horizontal bar plot\n",
    "def create_single_stacked_bar(ax, data, title):\n",
    "    df = pd.DataFrame(list(data.items()), columns=['Category', 'Value'])\n",
    "    df['Percentage'] = df['Value'] / df['Value'].sum() * 100\n",
    "    df = df.sort_values('Percentage', ascending=False)\n",
    "\n",
    "    colors = sns.color_palette(\"husl\", n_colors=len(df))\n",
    "    ax.barh(y=0.75, width=df['Percentage'], left=df['Percentage'].cumsum() - df['Percentage'], height=0.3, color=colors)\n",
    "    ax.set_title(title, fontsize=20)\n",
    "    ax.set_xlim(0, 100)\n",
    "    ax.set_ylim(0, 1)\n",
    "    ax.set_yticks([])\n",
    "    ax.set_xticks([])\n",
    "    ax.set_xlabel('')\n",
    "    ax.set_ylabel('')\n",
    "\n",
    "    # Remove axes\n",
    "    ax.spines['top'].set_visible(False)\n",
    "    ax.spines['right'].set_visible(False)\n",
    "    ax.spines['bottom'].set_visible(False)\n",
    "    ax.spines['left'].set_visible(False)\n",
    "\n",
    "    # Create legend with all information\n",
    "    legend_labels = [f\"{row['Category']}: {row['Percentage']:.1f}% ({format_number(row['Value'])})\" for _, row in df.iterrows()]\n",
    "    legend_elements = [plt.Rectangle((0,0),1,1, facecolor=color) for color in colors]\n",
    "    ax.legend(legend_elements, legend_labels, loc='center',\n",
    "              bbox_to_anchor=(0.5, 0.3), ncol=2, fontsize=16)\n",
    "\n",
    "# --- b. Single stacked horizontal bar for TrEMBL vs SwissProt ---\n",
    "create_single_stacked_bar(ax2, species_data, 'b. Distribution of Entries: TrEMBL vs SwissProt')\n",
    "\n",
    "# --- c. Single stacked horizontal bar for Species Sequences ---\n",
    "create_single_stacked_bar(ax3, species_sequences, 'c. Distribution of Species Sequences')\n",
    "\n",
    "# --- d. Single stacked horizontal bar for Protein Existence ---\n",
    "create_single_stacked_bar(ax4, protein_existence, 'd. Protein Existence Evidence')\n",
    "\n",
    "plt.tight_layout()\n",
    "plt.savefig('uniprot_stats.png', dpi=600, bbox_inches='tight')\n",
    "plt.close()\n",
    "\n",
    "print(\"Combined plot with new layout has been generated and saved as 'uniprot_stats.png'.\")"
   ]
  },
  {
   "cell_type": "code",
   "execution_count": 89,
   "metadata": {},
   "outputs": [
    {
     "data": {
      "text/plain": [
       "0.04269418544562134"
      ]
     },
     "execution_count": 89,
     "metadata": {},
     "output_type": "execute_result"
    }
   ],
   "source": [
    "sum(species_entries.values()) / sum(species_sequences.values())"
   ]
  },
  {
   "cell_type": "markdown",
   "metadata": {},
   "source": [
    "## PDB Statistics"
   ]
  },
  {
   "cell_type": "code",
   "execution_count": 136,
   "metadata": {},
   "outputs": [],
   "source": [
    "import matplotlib.pyplot as plt\n",
    "import numpy as np\n",
    "\n",
    "# Data for the pie chart\n",
    "labels = ['X-ray', 'EM', 'NMR', 'Multiple methods', 'Neutron', 'Other']\n",
    "sizes = [187055, 21796, 14326, 236, 82, 37]\n",
    "\n",
    "# Sort the data by size in descending order\n",
    "sorted_indices = np.argsort(sizes)[::-1]\n",
    "sorted_sizes = [sizes[i] for i in sorted_indices]\n",
    "sorted_labels = [f'{labels[i]} ({sizes[i]:,} - {sizes[i]/sum(sizes)*100:.1f}%)' for i in sorted_indices]\n",
    "\n",
    "# Create the pie chart with sorted data\n",
    "plt.figure(figsize=(8.5, 6))\n",
    "plt.pie(sorted_sizes, labels=None, startangle=90,\n",
    "        colors=plt.cm.tab20.colors, wedgeprops={'edgecolor': 'none'})  # Choose better colors\n",
    "\n",
    "# Add legend in descending order\n",
    "plt.legend(sorted_labels, title=\"Molecular Type\", loc=\"center left\", bbox_to_anchor=(1, 0, 0.5, 1), title_fontsize=18, fontsize=16)\n",
    "\n",
    "# Customize the title\n",
    "plt.title('Protein Structures by Molecular Type in PDB Data', fontsize=20, ha='center')\n",
    "\n",
    "# Show the plot\n",
    "# plt.show()\n",
    "# plt.tight_layout()\n",
    "plt.tight_layout(rect=[0, 0, 0.85, .75])\n",
    "plt.savefig('PDB_statistics.png', dpi=300, bbox_inches='tight')\n",
    "plt.close()"
   ]
  },
  {
   "cell_type": "code",
   "execution_count": null,
   "metadata": {},
   "outputs": [],
   "source": []
  }
 ],
 "metadata": {
  "kernelspec": {
   "display_name": "into-the-unknown-NYQelt9P-py3.12",
   "language": "python",
   "name": "python3"
  },
  "language_info": {
   "codemirror_mode": {
    "name": "ipython",
    "version": 3
   },
   "file_extension": ".py",
   "mimetype": "text/x-python",
   "name": "python",
   "nbconvert_exporter": "python",
   "pygments_lexer": "ipython3",
   "version": "3.12.4"
  }
 },
 "nbformat": 4,
 "nbformat_minor": 2
}
